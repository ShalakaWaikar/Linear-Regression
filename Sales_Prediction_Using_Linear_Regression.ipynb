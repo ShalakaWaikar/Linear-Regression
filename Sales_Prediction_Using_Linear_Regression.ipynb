{
  "nbformat": 4,
  "nbformat_minor": 0,
  "metadata": {
    "colab": {
      "provenance": []
    },
    "kernelspec": {
      "name": "python3",
      "display_name": "Python 3"
    },
    "language_info": {
      "name": "python"
    }
  },
  "cells": [
    {
      "cell_type": "markdown",
      "source": [
        "Importing all the necessory files\n"
      ],
      "metadata": {
        "id": "t1cF9aY_tDeN"
      }
    },
    {
      "cell_type": "code",
      "execution_count": 1,
      "metadata": {
        "id": "crKm8H5zrZOj"
      },
      "outputs": [],
      "source": [
        "import matplotlib.pyplot as plt\n",
        "import numpy as np\n",
        "import pandas as pd\n",
        "from sklearn.ensemble import RandomForestRegressor\n",
        "from xgboost import XGBRegressor\n",
        "from sklearn.linear_model import LinearRegression\n",
        "from sklearn.preprocessing import MinMaxScaler\n",
        "from sklearn.metrics import mean_absolute_error, mean_squared_error, r2_score\n",
        "from tensorflow.keras.models import Sequential\n",
        "from tensorflow.keras.layers import Dense, LSTM\n",
        "from tensorflow.keras.callbacks import EarlyStopping, ModelCheckpoint"
      ]
    },
    {
      "cell_type": "markdown",
      "source": [
        "Importing the data set and looking at its attributes"
      ],
      "metadata": {
        "id": "SgX2wyTCtKcs"
      }
    },
    {
      "cell_type": "code",
      "source": [
        "sales = pd.read_csv(\"train.csv\")\n",
        "sales.head(5)"
      ],
      "metadata": {
        "colab": {
          "base_uri": "https://localhost:8080/",
          "height": 206
        },
        "id": "ZBH69PQnsBk0",
        "outputId": "0c12e90e-73a2-41f1-904d-6ea320a95d0c"
      },
      "execution_count": 2,
      "outputs": [
        {
          "output_type": "execute_result",
          "data": {
            "text/plain": [
              "         date  store  item  sales\n",
              "0  2013-01-01      1     1     13\n",
              "1  2013-01-02      1     1     11\n",
              "2  2013-01-03      1     1     14\n",
              "3  2013-01-04      1     1     13\n",
              "4  2013-01-05      1     1     10"
            ],
            "text/html": [
              "\n",
              "  <div id=\"df-42cedf37-5ea4-454e-a064-cdf3f51751c0\">\n",
              "    <div class=\"colab-df-container\">\n",
              "      <div>\n",
              "<style scoped>\n",
              "    .dataframe tbody tr th:only-of-type {\n",
              "        vertical-align: middle;\n",
              "    }\n",
              "\n",
              "    .dataframe tbody tr th {\n",
              "        vertical-align: top;\n",
              "    }\n",
              "\n",
              "    .dataframe thead th {\n",
              "        text-align: right;\n",
              "    }\n",
              "</style>\n",
              "<table border=\"1\" class=\"dataframe\">\n",
              "  <thead>\n",
              "    <tr style=\"text-align: right;\">\n",
              "      <th></th>\n",
              "      <th>date</th>\n",
              "      <th>store</th>\n",
              "      <th>item</th>\n",
              "      <th>sales</th>\n",
              "    </tr>\n",
              "  </thead>\n",
              "  <tbody>\n",
              "    <tr>\n",
              "      <th>0</th>\n",
              "      <td>2013-01-01</td>\n",
              "      <td>1</td>\n",
              "      <td>1</td>\n",
              "      <td>13</td>\n",
              "    </tr>\n",
              "    <tr>\n",
              "      <th>1</th>\n",
              "      <td>2013-01-02</td>\n",
              "      <td>1</td>\n",
              "      <td>1</td>\n",
              "      <td>11</td>\n",
              "    </tr>\n",
              "    <tr>\n",
              "      <th>2</th>\n",
              "      <td>2013-01-03</td>\n",
              "      <td>1</td>\n",
              "      <td>1</td>\n",
              "      <td>14</td>\n",
              "    </tr>\n",
              "    <tr>\n",
              "      <th>3</th>\n",
              "      <td>2013-01-04</td>\n",
              "      <td>1</td>\n",
              "      <td>1</td>\n",
              "      <td>13</td>\n",
              "    </tr>\n",
              "    <tr>\n",
              "      <th>4</th>\n",
              "      <td>2013-01-05</td>\n",
              "      <td>1</td>\n",
              "      <td>1</td>\n",
              "      <td>10</td>\n",
              "    </tr>\n",
              "  </tbody>\n",
              "</table>\n",
              "</div>\n",
              "      <button class=\"colab-df-convert\" onclick=\"convertToInteractive('df-42cedf37-5ea4-454e-a064-cdf3f51751c0')\"\n",
              "              title=\"Convert this dataframe to an interactive table.\"\n",
              "              style=\"display:none;\">\n",
              "        \n",
              "  <svg xmlns=\"http://www.w3.org/2000/svg\" height=\"24px\"viewBox=\"0 0 24 24\"\n",
              "       width=\"24px\">\n",
              "    <path d=\"M0 0h24v24H0V0z\" fill=\"none\"/>\n",
              "    <path d=\"M18.56 5.44l.94 2.06.94-2.06 2.06-.94-2.06-.94-.94-2.06-.94 2.06-2.06.94zm-11 1L8.5 8.5l.94-2.06 2.06-.94-2.06-.94L8.5 2.5l-.94 2.06-2.06.94zm10 10l.94 2.06.94-2.06 2.06-.94-2.06-.94-.94-2.06-.94 2.06-2.06.94z\"/><path d=\"M17.41 7.96l-1.37-1.37c-.4-.4-.92-.59-1.43-.59-.52 0-1.04.2-1.43.59L10.3 9.45l-7.72 7.72c-.78.78-.78 2.05 0 2.83L4 21.41c.39.39.9.59 1.41.59.51 0 1.02-.2 1.41-.59l7.78-7.78 2.81-2.81c.8-.78.8-2.07 0-2.86zM5.41 20L4 18.59l7.72-7.72 1.47 1.35L5.41 20z\"/>\n",
              "  </svg>\n",
              "      </button>\n",
              "      \n",
              "  <style>\n",
              "    .colab-df-container {\n",
              "      display:flex;\n",
              "      flex-wrap:wrap;\n",
              "      gap: 12px;\n",
              "    }\n",
              "\n",
              "    .colab-df-convert {\n",
              "      background-color: #E8F0FE;\n",
              "      border: none;\n",
              "      border-radius: 50%;\n",
              "      cursor: pointer;\n",
              "      display: none;\n",
              "      fill: #1967D2;\n",
              "      height: 32px;\n",
              "      padding: 0 0 0 0;\n",
              "      width: 32px;\n",
              "    }\n",
              "\n",
              "    .colab-df-convert:hover {\n",
              "      background-color: #E2EBFA;\n",
              "      box-shadow: 0px 1px 2px rgba(60, 64, 67, 0.3), 0px 1px 3px 1px rgba(60, 64, 67, 0.15);\n",
              "      fill: #174EA6;\n",
              "    }\n",
              "\n",
              "    [theme=dark] .colab-df-convert {\n",
              "      background-color: #3B4455;\n",
              "      fill: #D2E3FC;\n",
              "    }\n",
              "\n",
              "    [theme=dark] .colab-df-convert:hover {\n",
              "      background-color: #434B5C;\n",
              "      box-shadow: 0px 1px 3px 1px rgba(0, 0, 0, 0.15);\n",
              "      filter: drop-shadow(0px 1px 2px rgba(0, 0, 0, 0.3));\n",
              "      fill: #FFFFFF;\n",
              "    }\n",
              "  </style>\n",
              "\n",
              "      <script>\n",
              "        const buttonEl =\n",
              "          document.querySelector('#df-42cedf37-5ea4-454e-a064-cdf3f51751c0 button.colab-df-convert');\n",
              "        buttonEl.style.display =\n",
              "          google.colab.kernel.accessAllowed ? 'block' : 'none';\n",
              "\n",
              "        async function convertToInteractive(key) {\n",
              "          const element = document.querySelector('#df-42cedf37-5ea4-454e-a064-cdf3f51751c0');\n",
              "          const dataTable =\n",
              "            await google.colab.kernel.invokeFunction('convertToInteractive',\n",
              "                                                     [key], {});\n",
              "          if (!dataTable) return;\n",
              "\n",
              "          const docLinkHtml = 'Like what you see? Visit the ' +\n",
              "            '<a target=\"_blank\" href=https://colab.research.google.com/notebooks/data_table.ipynb>data table notebook</a>'\n",
              "            + ' to learn more about interactive tables.';\n",
              "          element.innerHTML = '';\n",
              "          dataTable['output_type'] = 'display_data';\n",
              "          await google.colab.output.renderOutput(dataTable, element);\n",
              "          const docLink = document.createElement('div');\n",
              "          docLink.innerHTML = docLinkHtml;\n",
              "          element.appendChild(docLink);\n",
              "        }\n",
              "      </script>\n",
              "    </div>\n",
              "  </div>\n",
              "  "
            ]
          },
          "metadata": {},
          "execution_count": 2
        }
      ]
    },
    {
      "cell_type": "markdown",
      "source": [
        "Checking the basic information on our data like the null values and data types of the attributes etc."
      ],
      "metadata": {
        "id": "VpvuGYrHtTdW"
      }
    },
    {
      "cell_type": "code",
      "source": [
        "sales.info()"
      ],
      "metadata": {
        "colab": {
          "base_uri": "https://localhost:8080/"
        },
        "id": "JtknhMEXssH4",
        "outputId": "b6b8fd80-98cb-4d74-f541-f5092fcfb131"
      },
      "execution_count": 3,
      "outputs": [
        {
          "output_type": "stream",
          "name": "stdout",
          "text": [
            "<class 'pandas.core.frame.DataFrame'>\n",
            "RangeIndex: 913000 entries, 0 to 912999\n",
            "Data columns (total 4 columns):\n",
            " #   Column  Non-Null Count   Dtype \n",
            "---  ------  --------------   ----- \n",
            " 0   date    913000 non-null  object\n",
            " 1   store   913000 non-null  int64 \n",
            " 2   item    913000 non-null  int64 \n",
            " 3   sales   913000 non-null  int64 \n",
            "dtypes: int64(3), object(1)\n",
            "memory usage: 27.9+ MB\n"
          ]
        }
      ]
    },
    {
      "cell_type": "markdown",
      "source": [
        "Dropping the unecessory attributes and checking the info again"
      ],
      "metadata": {
        "id": "NQFJDPCJtfmN"
      }
    },
    {
      "cell_type": "code",
      "source": [
        "sales = sales.drop(['store', 'item'], axis = 1)\n",
        "sales.info()"
      ],
      "metadata": {
        "colab": {
          "base_uri": "https://localhost:8080/"
        },
        "id": "hj_46t9ptlfg",
        "outputId": "6682b4b3-7bb2-46fe-e3a8-bc9b7e2adc7b"
      },
      "execution_count": 4,
      "outputs": [
        {
          "output_type": "stream",
          "name": "stdout",
          "text": [
            "<class 'pandas.core.frame.DataFrame'>\n",
            "RangeIndex: 913000 entries, 0 to 912999\n",
            "Data columns (total 2 columns):\n",
            " #   Column  Non-Null Count   Dtype \n",
            "---  ------  --------------   ----- \n",
            " 0   date    913000 non-null  object\n",
            " 1   sales   913000 non-null  int64 \n",
            "dtypes: int64(1), object(1)\n",
            "memory usage: 13.9+ MB\n"
          ]
        }
      ]
    },
    {
      "cell_type": "markdown",
      "source": [
        "Converting date from object data type to datatime data type"
      ],
      "metadata": {
        "id": "E1D0tt1FuAjN"
      }
    },
    {
      "cell_type": "code",
      "source": [
        "sales['date'] = pd.to_datetime(sales['date'])"
      ],
      "metadata": {
        "id": "7p00BeK9uJD_"
      },
      "execution_count": 5,
      "outputs": []
    },
    {
      "cell_type": "markdown",
      "source": [
        "Converting date into a month period and then adding the number of items in each month"
      ],
      "metadata": {
        "id": "Qo3Dq9qxuuz-"
      }
    },
    {
      "cell_type": "code",
      "source": [
        "sales['date'] = sales['date'].dt.to_period('M')"
      ],
      "metadata": {
        "id": "y5viCtzAu7Y1"
      },
      "execution_count": 6,
      "outputs": []
    },
    {
      "cell_type": "code",
      "source": [
        "monthly_sales = sales.groupby('date').sum().reset_index()"
      ],
      "metadata": {
        "id": "iBrgbEJavRYd"
      },
      "execution_count": 7,
      "outputs": []
    },
    {
      "cell_type": "markdown",
      "source": [
        "Converting resulting date column to timestamp data type "
      ],
      "metadata": {
        "id": "XirKw4O1vlC5"
      }
    },
    {
      "cell_type": "code",
      "source": [
        "monthly_sales['date'] = monthly_sales['date'].dt.to_timestamp()"
      ],
      "metadata": {
        "id": "glywecAFvjhX"
      },
      "execution_count": 8,
      "outputs": []
    },
    {
      "cell_type": "code",
      "source": [
        "monthly_sales.head(5)"
      ],
      "metadata": {
        "colab": {
          "base_uri": "https://localhost:8080/",
          "height": 206
        },
        "id": "OxWTG1OkwN4h",
        "outputId": "a2e4663c-bb5e-45a1-a64e-3d906c6e2c98"
      },
      "execution_count": 9,
      "outputs": [
        {
          "output_type": "execute_result",
          "data": {
            "text/plain": [
              "        date   sales\n",
              "0 2013-01-01  454904\n",
              "1 2013-02-01  459417\n",
              "2 2013-03-01  617382\n",
              "3 2013-04-01  682274\n",
              "4 2013-05-01  763242"
            ],
            "text/html": [
              "\n",
              "  <div id=\"df-7af789b0-ecac-497a-a2be-6c0c64fe300f\">\n",
              "    <div class=\"colab-df-container\">\n",
              "      <div>\n",
              "<style scoped>\n",
              "    .dataframe tbody tr th:only-of-type {\n",
              "        vertical-align: middle;\n",
              "    }\n",
              "\n",
              "    .dataframe tbody tr th {\n",
              "        vertical-align: top;\n",
              "    }\n",
              "\n",
              "    .dataframe thead th {\n",
              "        text-align: right;\n",
              "    }\n",
              "</style>\n",
              "<table border=\"1\" class=\"dataframe\">\n",
              "  <thead>\n",
              "    <tr style=\"text-align: right;\">\n",
              "      <th></th>\n",
              "      <th>date</th>\n",
              "      <th>sales</th>\n",
              "    </tr>\n",
              "  </thead>\n",
              "  <tbody>\n",
              "    <tr>\n",
              "      <th>0</th>\n",
              "      <td>2013-01-01</td>\n",
              "      <td>454904</td>\n",
              "    </tr>\n",
              "    <tr>\n",
              "      <th>1</th>\n",
              "      <td>2013-02-01</td>\n",
              "      <td>459417</td>\n",
              "    </tr>\n",
              "    <tr>\n",
              "      <th>2</th>\n",
              "      <td>2013-03-01</td>\n",
              "      <td>617382</td>\n",
              "    </tr>\n",
              "    <tr>\n",
              "      <th>3</th>\n",
              "      <td>2013-04-01</td>\n",
              "      <td>682274</td>\n",
              "    </tr>\n",
              "    <tr>\n",
              "      <th>4</th>\n",
              "      <td>2013-05-01</td>\n",
              "      <td>763242</td>\n",
              "    </tr>\n",
              "  </tbody>\n",
              "</table>\n",
              "</div>\n",
              "      <button class=\"colab-df-convert\" onclick=\"convertToInteractive('df-7af789b0-ecac-497a-a2be-6c0c64fe300f')\"\n",
              "              title=\"Convert this dataframe to an interactive table.\"\n",
              "              style=\"display:none;\">\n",
              "        \n",
              "  <svg xmlns=\"http://www.w3.org/2000/svg\" height=\"24px\"viewBox=\"0 0 24 24\"\n",
              "       width=\"24px\">\n",
              "    <path d=\"M0 0h24v24H0V0z\" fill=\"none\"/>\n",
              "    <path d=\"M18.56 5.44l.94 2.06.94-2.06 2.06-.94-2.06-.94-.94-2.06-.94 2.06-2.06.94zm-11 1L8.5 8.5l.94-2.06 2.06-.94-2.06-.94L8.5 2.5l-.94 2.06-2.06.94zm10 10l.94 2.06.94-2.06 2.06-.94-2.06-.94-.94-2.06-.94 2.06-2.06.94z\"/><path d=\"M17.41 7.96l-1.37-1.37c-.4-.4-.92-.59-1.43-.59-.52 0-1.04.2-1.43.59L10.3 9.45l-7.72 7.72c-.78.78-.78 2.05 0 2.83L4 21.41c.39.39.9.59 1.41.59.51 0 1.02-.2 1.41-.59l7.78-7.78 2.81-2.81c.8-.78.8-2.07 0-2.86zM5.41 20L4 18.59l7.72-7.72 1.47 1.35L5.41 20z\"/>\n",
              "  </svg>\n",
              "      </button>\n",
              "      \n",
              "  <style>\n",
              "    .colab-df-container {\n",
              "      display:flex;\n",
              "      flex-wrap:wrap;\n",
              "      gap: 12px;\n",
              "    }\n",
              "\n",
              "    .colab-df-convert {\n",
              "      background-color: #E8F0FE;\n",
              "      border: none;\n",
              "      border-radius: 50%;\n",
              "      cursor: pointer;\n",
              "      display: none;\n",
              "      fill: #1967D2;\n",
              "      height: 32px;\n",
              "      padding: 0 0 0 0;\n",
              "      width: 32px;\n",
              "    }\n",
              "\n",
              "    .colab-df-convert:hover {\n",
              "      background-color: #E2EBFA;\n",
              "      box-shadow: 0px 1px 2px rgba(60, 64, 67, 0.3), 0px 1px 3px 1px rgba(60, 64, 67, 0.15);\n",
              "      fill: #174EA6;\n",
              "    }\n",
              "\n",
              "    [theme=dark] .colab-df-convert {\n",
              "      background-color: #3B4455;\n",
              "      fill: #D2E3FC;\n",
              "    }\n",
              "\n",
              "    [theme=dark] .colab-df-convert:hover {\n",
              "      background-color: #434B5C;\n",
              "      box-shadow: 0px 1px 3px 1px rgba(0, 0, 0, 0.15);\n",
              "      filter: drop-shadow(0px 1px 2px rgba(0, 0, 0, 0.3));\n",
              "      fill: #FFFFFF;\n",
              "    }\n",
              "  </style>\n",
              "\n",
              "      <script>\n",
              "        const buttonEl =\n",
              "          document.querySelector('#df-7af789b0-ecac-497a-a2be-6c0c64fe300f button.colab-df-convert');\n",
              "        buttonEl.style.display =\n",
              "          google.colab.kernel.accessAllowed ? 'block' : 'none';\n",
              "\n",
              "        async function convertToInteractive(key) {\n",
              "          const element = document.querySelector('#df-7af789b0-ecac-497a-a2be-6c0c64fe300f');\n",
              "          const dataTable =\n",
              "            await google.colab.kernel.invokeFunction('convertToInteractive',\n",
              "                                                     [key], {});\n",
              "          if (!dataTable) return;\n",
              "\n",
              "          const docLinkHtml = 'Like what you see? Visit the ' +\n",
              "            '<a target=\"_blank\" href=https://colab.research.google.com/notebooks/data_table.ipynb>data table notebook</a>'\n",
              "            + ' to learn more about interactive tables.';\n",
              "          element.innerHTML = '';\n",
              "          dataTable['output_type'] = 'display_data';\n",
              "          await google.colab.output.renderOutput(dataTable, element);\n",
              "          const docLink = document.createElement('div');\n",
              "          docLink.innerHTML = docLinkHtml;\n",
              "          element.appendChild(docLink);\n",
              "        }\n",
              "      </script>\n",
              "    </div>\n",
              "  </div>\n",
              "  "
            ]
          },
          "metadata": {},
          "execution_count": 9
        }
      ]
    },
    {
      "cell_type": "markdown",
      "source": [
        "Visualization"
      ],
      "metadata": {
        "id": "6HHcS1d6wqH9"
      }
    },
    {
      "cell_type": "code",
      "source": [
        "plt.figure(figsize = (15,5))\n",
        "plt.plot(monthly_sales['date'], monthly_sales['sales'])\n",
        "plt.xlabel('Date')\n",
        "plt.ylabel('Sales')\n",
        "plt.title('Monthly Customer Sales')\n",
        "plt.show()"
      ],
      "metadata": {
        "colab": {
          "base_uri": "https://localhost:8080/",
          "height": 350
        },
        "id": "rjr-JLk4wrkM",
        "outputId": "c396a1bb-b8bc-483d-ebc0-c261154aec65"
      },
      "execution_count": 10,
      "outputs": [
        {
          "output_type": "display_data",
          "data": {
            "text/plain": [
              "<Figure size 1080x360 with 1 Axes>"
            ],
            "image/png": "[encoded data removed]"
          },
          "metadata": {
            "needs_background": "light"
          }
        }
      ]
    },
    {
      "cell_type": "markdown",
      "source": [
        "To make the data sales data stationary, we will call the difference on sales column"
      ],
      "metadata": {
        "id": "X98ZLDx-xqKn"
      }
    },
    {
      "cell_type": "code",
      "source": [
        "monthly_sales['sales_diff'] = monthly_sales['sales'].diff()\n",
        "monthly_sales = monthly_sales.dropna()\n",
        "monthly_sales.head(5)"
      ],
      "metadata": {
        "colab": {
          "base_uri": "https://localhost:8080/",
          "height": 206
        },
        "id": "MI7lo8qZx35f",
        "outputId": "3df5696b-96df-489f-ab41-c03943e61049"
      },
      "execution_count": 11,
      "outputs": [
        {
          "output_type": "execute_result",
          "data": {
            "text/plain": [
              "        date   sales  sales_diff\n",
              "1 2013-02-01  459417      4513.0\n",
              "2 2013-03-01  617382    157965.0\n",
              "3 2013-04-01  682274     64892.0\n",
              "4 2013-05-01  763242     80968.0\n",
              "5 2013-06-01  795597     32355.0"
            ],
            "text/html": [
              "\n",
              "  <div id=\"df-7d383b93-aecb-4433-8427-f1ab7f8d47f6\">\n",
              "    <div class=\"colab-df-container\">\n",
              "      <div>\n",
              "<style scoped>\n",
              "    .dataframe tbody tr th:only-of-type {\n",
              "        vertical-align: middle;\n",
              "    }\n",
              "\n",
              "    .dataframe tbody tr th {\n",
              "        vertical-align: top;\n",
              "    }\n",
              "\n",
              "    .dataframe thead th {\n",
              "        text-align: right;\n",
              "    }\n",
              "</style>\n",
              "<table border=\"1\" class=\"dataframe\">\n",
              "  <thead>\n",
              "    <tr style=\"text-align: right;\">\n",
              "      <th></th>\n",
              "      <th>date</th>\n",
              "      <th>sales</th>\n",
              "      <th>sales_diff</th>\n",
              "    </tr>\n",
              "  </thead>\n",
              "  <tbody>\n",
              "    <tr>\n",
              "      <th>1</th>\n",
              "      <td>2013-02-01</td>\n",
              "      <td>459417</td>\n",
              "      <td>4513.0</td>\n",
              "    </tr>\n",
              "    <tr>\n",
              "      <th>2</th>\n",
              "      <td>2013-03-01</td>\n",
              "      <td>617382</td>\n",
              "      <td>157965.0</td>\n",
              "    </tr>\n",
              "    <tr>\n",
              "      <th>3</th>\n",
              "      <td>2013-04-01</td>\n",
              "      <td>682274</td>\n",
              "      <td>64892.0</td>\n",
              "    </tr>\n",
              "    <tr>\n",
              "      <th>4</th>\n",
              "      <td>2013-05-01</td>\n",
              "      <td>763242</td>\n",
              "      <td>80968.0</td>\n",
              "    </tr>\n",
              "    <tr>\n",
              "      <th>5</th>\n",
              "      <td>2013-06-01</td>\n",
              "      <td>795597</td>\n",
              "      <td>32355.0</td>\n",
              "    </tr>\n",
              "  </tbody>\n",
              "</table>\n",
              "</div>\n",
              "      <button class=\"colab-df-convert\" onclick=\"convertToInteractive('df-7d383b93-aecb-4433-8427-f1ab7f8d47f6')\"\n",
              "              title=\"Convert this dataframe to an interactive table.\"\n",
              "              style=\"display:none;\">\n",
              "        \n",
              "  <svg xmlns=\"http://www.w3.org/2000/svg\" height=\"24px\"viewBox=\"0 0 24 24\"\n",
              "       width=\"24px\">\n",
              "    <path d=\"M0 0h24v24H0V0z\" fill=\"none\"/>\n",
              "    <path d=\"M18.56 5.44l.94 2.06.94-2.06 2.06-.94-2.06-.94-.94-2.06-.94 2.06-2.06.94zm-11 1L8.5 8.5l.94-2.06 2.06-.94-2.06-.94L8.5 2.5l-.94 2.06-2.06.94zm10 10l.94 2.06.94-2.06 2.06-.94-2.06-.94-.94-2.06-.94 2.06-2.06.94z\"/><path d=\"M17.41 7.96l-1.37-1.37c-.4-.4-.92-.59-1.43-.59-.52 0-1.04.2-1.43.59L10.3 9.45l-7.72 7.72c-.78.78-.78 2.05 0 2.83L4 21.41c.39.39.9.59 1.41.59.51 0 1.02-.2 1.41-.59l7.78-7.78 2.81-2.81c.8-.78.8-2.07 0-2.86zM5.41 20L4 18.59l7.72-7.72 1.47 1.35L5.41 20z\"/>\n",
              "  </svg>\n",
              "      </button>\n",
              "      \n",
              "  <style>\n",
              "    .colab-df-container {\n",
              "      display:flex;\n",
              "      flex-wrap:wrap;\n",
              "      gap: 12px;\n",
              "    }\n",
              "\n",
              "    .colab-df-convert {\n",
              "      background-color: #E8F0FE;\n",
              "      border: none;\n",
              "      border-radius: 50%;\n",
              "      cursor: pointer;\n",
              "      display: none;\n",
              "      fill: #1967D2;\n",
              "      height: 32px;\n",
              "      padding: 0 0 0 0;\n",
              "      width: 32px;\n",
              "    }\n",
              "\n",
              "    .colab-df-convert:hover {\n",
              "      background-color: #E2EBFA;\n",
              "      box-shadow: 0px 1px 2px rgba(60, 64, 67, 0.3), 0px 1px 3px 1px rgba(60, 64, 67, 0.15);\n",
              "      fill: #174EA6;\n",
              "    }\n",
              "\n",
              "    [theme=dark] .colab-df-convert {\n",
              "      background-color: #3B4455;\n",
              "      fill: #D2E3FC;\n",
              "    }\n",
              "\n",
              "    [theme=dark] .colab-df-convert:hover {\n",
              "      background-color: #434B5C;\n",
              "      box-shadow: 0px 1px 3px 1px rgba(0, 0, 0, 0.15);\n",
              "      filter: drop-shadow(0px 1px 2px rgba(0, 0, 0, 0.3));\n",
              "      fill: #FFFFFF;\n",
              "    }\n",
              "  </style>\n",
              "\n",
              "      <script>\n",
              "        const buttonEl =\n",
              "          document.querySelector('#df-7d383b93-aecb-4433-8427-f1ab7f8d47f6 button.colab-df-convert');\n",
              "        buttonEl.style.display =\n",
              "          google.colab.kernel.accessAllowed ? 'block' : 'none';\n",
              "\n",
              "        async function convertToInteractive(key) {\n",
              "          const element = document.querySelector('#df-7d383b93-aecb-4433-8427-f1ab7f8d47f6');\n",
              "          const dataTable =\n",
              "            await google.colab.kernel.invokeFunction('convertToInteractive',\n",
              "                                                     [key], {});\n",
              "          if (!dataTable) return;\n",
              "\n",
              "          const docLinkHtml = 'Like what you see? Visit the ' +\n",
              "            '<a target=\"_blank\" href=https://colab.research.google.com/notebooks/data_table.ipynb>data table notebook</a>'\n",
              "            + ' to learn more about interactive tables.';\n",
              "          element.innerHTML = '';\n",
              "          dataTable['output_type'] = 'display_data';\n",
              "          await google.colab.output.renderOutput(dataTable, element);\n",
              "          const docLink = document.createElement('div');\n",
              "          docLink.innerHTML = docLinkHtml;\n",
              "          element.appendChild(docLink);\n",
              "        }\n",
              "      </script>\n",
              "    </div>\n",
              "  </div>\n",
              "  "
            ]
          },
          "metadata": {},
          "execution_count": 11
        }
      ]
    },
    {
      "cell_type": "code",
      "source": [
        "plt.figure(figsize = (15,5))\n",
        "plt.plot(monthly_sales['date'], monthly_sales['sales_diff'])\n",
        "plt.xlabel('Date')\n",
        "plt.ylabel('Sales')\n",
        "plt.title('Monthly Customer Sales Difference')\n",
        "plt.show()"
      ],
      "metadata": {
        "colab": {
          "base_uri": "https://localhost:8080/",
          "height": 350
        },
        "id": "9gDQ41LwyxiW",
        "outputId": "6b324552-9664-4d0c-94c3-f73f09ff7b7f"
      },
      "execution_count": 12,
      "outputs": [
        {
          "output_type": "display_data",
          "data": {
            "text/plain": [
              "<Figure size 1080x360 with 1 Axes>"
            ],
            "image/png": "[encoded data removed]"
          },
          "metadata": {
            "needs_background": "light"
          }
        }
      ]
    },
    {
      "cell_type": "markdown",
      "source": [
        "Dropping the attributes 'Sales', and 'Date'"
      ],
      "metadata": {
        "id": "Ba9CmvZqzX_O"
      }
    },
    {
      "cell_type": "code",
      "source": [
        "supervised_data = monthly_sales.drop(['date', 'sales'], axis = 1)"
      ],
      "metadata": {
        "id": "Wb_lfqrhzhyd"
      },
      "execution_count": 13,
      "outputs": []
    },
    {
      "cell_type": "markdown",
      "source": [
        "Preparing supervised data"
      ],
      "metadata": {
        "id": "tWUh90mY0NvK"
      }
    },
    {
      "cell_type": "code",
      "source": [
        "for i in range (1, 13):\n",
        "  col_name = 'month_' + str(i)\n",
        "  supervised_data[col_name] = supervised_data['sales_diff'].shift(i)\n",
        "supervised_data = supervised_data.dropna().reset_index(drop = True)\n",
        "supervised_data.head(10)"
      ],
      "metadata": {
        "colab": {
          "base_uri": "https://localhost:8080/",
          "height": 363
        },
        "id": "nCj2yaAB0MNI",
        "outputId": "43db35c0-f168-419f-d71e-7c5f37966555"
      },
      "execution_count": 14,
      "outputs": [
        {
          "output_type": "execute_result",
          "data": {
            "text/plain": [
              "   sales_diff   month_1   month_2   month_3   month_4   month_5   month_6  \\\n",
              "0      3130.0   19380.0 -186036.0   36056.0  -33320.0  -76854.0  -89161.0   \n",
              "1    175184.0    3130.0   19380.0 -186036.0   36056.0  -33320.0  -76854.0   \n",
              "2     84613.0  175184.0    3130.0   19380.0 -186036.0   36056.0  -33320.0   \n",
              "3     93963.0   84613.0  175184.0    3130.0   19380.0 -186036.0   36056.0   \n",
              "4     23965.0   93963.0   84613.0  175184.0    3130.0   19380.0 -186036.0   \n",
              "5     82168.0   23965.0   93963.0   84613.0  175184.0    3130.0   19380.0   \n",
              "6   -103414.0   82168.0   23965.0   93963.0   84613.0  175184.0    3130.0   \n",
              "7   -100472.0 -103414.0   82168.0   23965.0   93963.0   84613.0  175184.0   \n",
              "8    -26241.0 -100472.0 -103414.0   82168.0   23965.0   93963.0   84613.0   \n",
              "9     41900.0  -26241.0 -100472.0 -103414.0   82168.0   23965.0   93963.0   \n",
              "\n",
              "    month_7   month_8   month_9  month_10  month_11  month_12  \n",
              "0   60325.0   32355.0   80968.0   64892.0  157965.0    4513.0  \n",
              "1  -89161.0   60325.0   32355.0   80968.0   64892.0  157965.0  \n",
              "2  -76854.0  -89161.0   60325.0   32355.0   80968.0   64892.0  \n",
              "3  -33320.0  -76854.0  -89161.0   60325.0   32355.0   80968.0  \n",
              "4   36056.0  -33320.0  -76854.0  -89161.0   60325.0   32355.0  \n",
              "5 -186036.0   36056.0  -33320.0  -76854.0  -89161.0   60325.0  \n",
              "6   19380.0 -186036.0   36056.0  -33320.0  -76854.0  -89161.0  \n",
              "7    3130.0   19380.0 -186036.0   36056.0  -33320.0  -76854.0  \n",
              "8  175184.0    3130.0   19380.0 -186036.0   36056.0  -33320.0  \n",
              "9   84613.0  175184.0    3130.0   19380.0 -186036.0   36056.0  "
            ],
            "text/html": [
              "\n",
              "  <div id=\"df-0cf4069c-ea37-4771-91f0-0a4370d573dd\">\n",
              "    <div class=\"colab-df-container\">\n",
              "      <div>\n",
              "<style scoped>\n",
              "    .dataframe tbody tr th:only-of-type {\n",
              "        vertical-align: middle;\n",
              "    }\n",
              "\n",
              "    .dataframe tbody tr th {\n",
              "        vertical-align: top;\n",
              "    }\n",
              "\n",
              "    .dataframe thead th {\n",
              "        text-align: right;\n",
              "    }\n",
              "</style>\n",
              "<table border=\"1\" class=\"dataframe\">\n",
              "  <thead>\n",
              "    <tr style=\"text-align: right;\">\n",
              "      <th></th>\n",
              "      <th>sales_diff</th>\n",
              "      <th>month_1</th>\n",
              "      <th>month_2</th>\n",
              "      <th>month_3</th>\n",
              "      <th>month_4</th>\n",
              "      <th>month_5</th>\n",
              "      <th>month_6</th>\n",
              "      <th>month_7</th>\n",
              "      <th>month_8</th>\n",
              "      <th>month_9</th>\n",
              "      <th>month_10</th>\n",
              "      <th>month_11</th>\n",
              "      <th>month_12</th>\n",
              "    </tr>\n",
              "  </thead>\n",
              "  <tbody>\n",
              "    <tr>\n",
              "      <th>0</th>\n",
              "      <td>3130.0</td>\n",
              "      <td>19380.0</td>\n",
              "      <td>-186036.0</td>\n",
              "      <td>36056.0</td>\n",
              "      <td>-33320.0</td>\n",
              "      <td>-76854.0</td>\n",
              "      <td>-89161.0</td>\n",
              "      <td>60325.0</td>\n",
              "      <td>32355.0</td>\n",
              "      <td>80968.0</td>\n",
              "      <td>64892.0</td>\n",
              "      <td>157965.0</td>\n",
              "      <td>4513.0</td>\n",
              "    </tr>\n",
              "    <tr>\n",
              "      <th>1</th>\n",
              "      <td>175184.0</td>\n",
              "      <td>3130.0</td>\n",
              "      <td>19380.0</td>\n",
              "      <td>-186036.0</td>\n",
              "      <td>36056.0</td>\n",
              "      <td>-33320.0</td>\n",
              "      <td>-76854.0</td>\n",
              "      <td>-89161.0</td>\n",
              "      <td>60325.0</td>\n",
              "      <td>32355.0</td>\n",
              "      <td>80968.0</td>\n",
              "      <td>64892.0</td>\n",
              "      <td>157965.0</td>\n",
              "    </tr>\n",
              "    <tr>\n",
              "      <th>2</th>\n",
              "      <td>84613.0</td>\n",
              "      <td>175184.0</td>\n",
              "      <td>3130.0</td>\n",
              "      <td>19380.0</td>\n",
              "      <td>-186036.0</td>\n",
              "      <td>36056.0</td>\n",
              "      <td>-33320.0</td>\n",
              "      <td>-76854.0</td>\n",
              "      <td>-89161.0</td>\n",
              "      <td>60325.0</td>\n",
              "      <td>32355.0</td>\n",
              "      <td>80968.0</td>\n",
              "      <td>64892.0</td>\n",
              "    </tr>\n",
              "    <tr>\n",
              "      <th>3</th>\n",
              "      <td>93963.0</td>\n",
              "      <td>84613.0</td>\n",
              "      <td>175184.0</td>\n",
              "      <td>3130.0</td>\n",
              "      <td>19380.0</td>\n",
              "      <td>-186036.0</td>\n",
              "      <td>36056.0</td>\n",
              "      <td>-33320.0</td>\n",
              "      <td>-76854.0</td>\n",
              "      <td>-89161.0</td>\n",
              "      <td>60325.0</td>\n",
              "      <td>32355.0</td>\n",
              "      <td>80968.0</td>\n",
              "    </tr>\n",
              "    <tr>\n",
              "      <th>4</th>\n",
              "      <td>23965.0</td>\n",
              "      <td>93963.0</td>\n",
              "      <td>84613.0</td>\n",
              "      <td>175184.0</td>\n",
              "      <td>3130.0</td>\n",
              "      <td>19380.0</td>\n",
              "      <td>-186036.0</td>\n",
              "      <td>36056.0</td>\n",
              "      <td>-33320.0</td>\n",
              "      <td>-76854.0</td>\n",
              "      <td>-89161.0</td>\n",
              "      <td>60325.0</td>\n",
              "      <td>32355.0</td>\n",
              "    </tr>\n",
              "    <tr>\n",
              "      <th>5</th>\n",
              "      <td>82168.0</td>\n",
              "      <td>23965.0</td>\n",
              "      <td>93963.0</td>\n",
              "      <td>84613.0</td>\n",
              "      <td>175184.0</td>\n",
              "      <td>3130.0</td>\n",
              "      <td>19380.0</td>\n",
              "      <td>-186036.0</td>\n",
              "      <td>36056.0</td>\n",
              "      <td>-33320.0</td>\n",
              "      <td>-76854.0</td>\n",
              "      <td>-89161.0</td>\n",
              "      <td>60325.0</td>\n",
              "    </tr>\n",
              "    <tr>\n",
              "      <th>6</th>\n",
              "      <td>-103414.0</td>\n",
              "      <td>82168.0</td>\n",
              "      <td>23965.0</td>\n",
              "      <td>93963.0</td>\n",
              "      <td>84613.0</td>\n",
              "      <td>175184.0</td>\n",
              "      <td>3130.0</td>\n",
              "      <td>19380.0</td>\n",
              "      <td>-186036.0</td>\n",
              "      <td>36056.0</td>\n",
              "      <td>-33320.0</td>\n",
              "      <td>-76854.0</td>\n",
              "      <td>-89161.0</td>\n",
              "    </tr>\n",
              "    <tr>\n",
              "      <th>7</th>\n",
              "      <td>-100472.0</td>\n",
              "      <td>-103414.0</td>\n",
              "      <td>82168.0</td>\n",
              "      <td>23965.0</td>\n",
              "      <td>93963.0</td>\n",
              "      <td>84613.0</td>\n",
              "      <td>175184.0</td>\n",
              "      <td>3130.0</td>\n",
              "      <td>19380.0</td>\n",
              "      <td>-186036.0</td>\n",
              "      <td>36056.0</td>\n",
              "      <td>-33320.0</td>\n",
              "      <td>-76854.0</td>\n",
              "    </tr>\n",
              "    <tr>\n",
              "      <th>8</th>\n",
              "      <td>-26241.0</td>\n",
              "      <td>-100472.0</td>\n",
              "      <td>-103414.0</td>\n",
              "      <td>82168.0</td>\n",
              "      <td>23965.0</td>\n",
              "      <td>93963.0</td>\n",
              "      <td>84613.0</td>\n",
              "      <td>175184.0</td>\n",
              "      <td>3130.0</td>\n",
              "      <td>19380.0</td>\n",
              "      <td>-186036.0</td>\n",
              "      <td>36056.0</td>\n",
              "      <td>-33320.0</td>\n",
              "    </tr>\n",
              "    <tr>\n",
              "      <th>9</th>\n",
              "      <td>41900.0</td>\n",
              "      <td>-26241.0</td>\n",
              "      <td>-100472.0</td>\n",
              "      <td>-103414.0</td>\n",
              "      <td>82168.0</td>\n",
              "      <td>23965.0</td>\n",
              "      <td>93963.0</td>\n",
              "      <td>84613.0</td>\n",
              "      <td>175184.0</td>\n",
              "      <td>3130.0</td>\n",
              "      <td>19380.0</td>\n",
              "      <td>-186036.0</td>\n",
              "      <td>36056.0</td>\n",
              "    </tr>\n",
              "  </tbody>\n",
              "</table>\n",
              "</div>\n",
              "      <button class=\"colab-df-convert\" onclick=\"convertToInteractive('df-0cf4069c-ea37-4771-91f0-0a4370d573dd')\"\n",
              "              title=\"Convert this dataframe to an interactive table.\"\n",
              "              style=\"display:none;\">\n",
              "        \n",
              "  <svg xmlns=\"http://www.w3.org/2000/svg\" height=\"24px\"viewBox=\"0 0 24 24\"\n",
              "       width=\"24px\">\n",
              "    <path d=\"M0 0h24v24H0V0z\" fill=\"none\"/>\n",
              "    <path d=\"M18.56 5.44l.94 2.06.94-2.06 2.06-.94-2.06-.94-.94-2.06-.94 2.06-2.06.94zm-11 1L8.5 8.5l.94-2.06 2.06-.94-2.06-.94L8.5 2.5l-.94 2.06-2.06.94zm10 10l.94 2.06.94-2.06 2.06-.94-2.06-.94-.94-2.06-.94 2.06-2.06.94z\"/><path d=\"M17.41 7.96l-1.37-1.37c-.4-.4-.92-.59-1.43-.59-.52 0-1.04.2-1.43.59L10.3 9.45l-7.72 7.72c-.78.78-.78 2.05 0 2.83L4 21.41c.39.39.9.59 1.41.59.51 0 1.02-.2 1.41-.59l7.78-7.78 2.81-2.81c.8-.78.8-2.07 0-2.86zM5.41 20L4 18.59l7.72-7.72 1.47 1.35L5.41 20z\"/>\n",
              "  </svg>\n",
              "      </button>\n",
              "      \n",
              "  <style>\n",
              "    .colab-df-container {\n",
              "      display:flex;\n",
              "      flex-wrap:wrap;\n",
              "      gap: 12px;\n",
              "    }\n",
              "\n",
              "    .colab-df-convert {\n",
              "      background-color: #E8F0FE;\n",
              "      border: none;\n",
              "      border-radius: 50%;\n",
              "      cursor: pointer;\n",
              "      display: none;\n",
              "      fill: #1967D2;\n",
              "      height: 32px;\n",
              "      padding: 0 0 0 0;\n",
              "      width: 32px;\n",
              "    }\n",
              "\n",
              "    .colab-df-convert:hover {\n",
              "      background-color: #E2EBFA;\n",
              "      box-shadow: 0px 1px 2px rgba(60, 64, 67, 0.3), 0px 1px 3px 1px rgba(60, 64, 67, 0.15);\n",
              "      fill: #174EA6;\n",
              "    }\n",
              "\n",
              "    [theme=dark] .colab-df-convert {\n",
              "      background-color: #3B4455;\n",
              "      fill: #D2E3FC;\n",
              "    }\n",
              "\n",
              "    [theme=dark] .colab-df-convert:hover {\n",
              "      background-color: #434B5C;\n",
              "      box-shadow: 0px 1px 3px 1px rgba(0, 0, 0, 0.15);\n",
              "      filter: drop-shadow(0px 1px 2px rgba(0, 0, 0, 0.3));\n",
              "      fill: #FFFFFF;\n",
              "    }\n",
              "  </style>\n",
              "\n",
              "      <script>\n",
              "        const buttonEl =\n",
              "          document.querySelector('#df-0cf4069c-ea37-4771-91f0-0a4370d573dd button.colab-df-convert');\n",
              "        buttonEl.style.display =\n",
              "          google.colab.kernel.accessAllowed ? 'block' : 'none';\n",
              "\n",
              "        async function convertToInteractive(key) {\n",
              "          const element = document.querySelector('#df-0cf4069c-ea37-4771-91f0-0a4370d573dd');\n",
              "          const dataTable =\n",
              "            await google.colab.kernel.invokeFunction('convertToInteractive',\n",
              "                                                     [key], {});\n",
              "          if (!dataTable) return;\n",
              "\n",
              "          const docLinkHtml = 'Like what you see? Visit the ' +\n",
              "            '<a target=\"_blank\" href=https://colab.research.google.com/notebooks/data_table.ipynb>data table notebook</a>'\n",
              "            + ' to learn more about interactive tables.';\n",
              "          element.innerHTML = '';\n",
              "          dataTable['output_type'] = 'display_data';\n",
              "          await google.colab.output.renderOutput(dataTable, element);\n",
              "          const docLink = document.createElement('div');\n",
              "          docLink.innerHTML = docLinkHtml;\n",
              "          element.appendChild(docLink);\n",
              "        }\n",
              "      </script>\n",
              "    </div>\n",
              "  </div>\n",
              "  "
            ]
          },
          "metadata": {},
          "execution_count": 14
        }
      ]
    },
    {
      "cell_type": "markdown",
      "source": [
        "Splitting Data into train and test data set"
      ],
      "metadata": {
        "id": "tRc-VqgQ2WYs"
      }
    },
    {
      "cell_type": "code",
      "source": [
        "train_data = supervised_data[:-12]\n",
        "test_data = supervised_data[-12:]\n",
        "print(\"Train Data Shape: \", train_data.shape)\n",
        "print(\"Test Data Shape: \", test_data.shape)"
      ],
      "metadata": {
        "colab": {
          "base_uri": "https://localhost:8080/"
        },
        "id": "I_evjMg82VRR",
        "outputId": "bb85523d-df66-44fd-c20c-0c9374cc3b4a"
      },
      "execution_count": 15,
      "outputs": [
        {
          "output_type": "stream",
          "name": "stdout",
          "text": [
            "Train Data Shape:  (35, 13)\n",
            "Test Data Shape:  (12, 13)\n"
          ]
        }
      ]
    },
    {
      "cell_type": "code",
      "source": [
        "scaler = MinMaxScaler(feature_range = (-1,1))\n",
        "scaler.fit(train_data)\n",
        "train_data = scaler.transform(train_data)\n",
        "test_data = scaler.transform(test_data) "
      ],
      "metadata": {
        "id": "nFAcTZNo441T"
      },
      "execution_count": 16,
      "outputs": []
    },
    {
      "cell_type": "code",
      "source": [
        "x_train, y_train = train_data[:,1:], train_data[:,0:1]\n",
        "x_test, y_test = test_data[:,1:], test_data[:,0:1]\n",
        "y_train = y_train.ravel()\n",
        "y_test = y_test.ravel()\n",
        "print('x_train Shape: ', x_train.shape)\n",
        "print('y_train Shape: ', y_train.shape)\n",
        "print('x_test Shape: ', x_test.shape)\n",
        "print('y_test Shape: ', y_test.shape)"
      ],
      "metadata": {
        "colab": {
          "base_uri": "https://localhost:8080/"
        },
        "id": "3j-ddPna53aH",
        "outputId": "49362fc2-4c40-4f8e-8574-171fe7f0b09d"
      },
      "execution_count": 17,
      "outputs": [
        {
          "output_type": "stream",
          "name": "stdout",
          "text": [
            "x_train Shape:  (35, 12)\n",
            "y_train Shape:  (35,)\n",
            "x_test Shape:  (12, 12)\n",
            "y_test Shape:  (12,)\n"
          ]
        }
      ]
    },
    {
      "cell_type": "markdown",
      "source": [
        "Make prediction data frame to merge the predicted sales price of all trained algorithms"
      ],
      "metadata": {
        "id": "uRCb2eqC7VKn"
      }
    },
    {
      "cell_type": "code",
      "source": [
        "sales_dates = monthly_sales['date'][-12:].reset_index(drop = True)\n",
        "predict_df=pd.DataFrame(sales_dates)"
      ],
      "metadata": {
        "id": "Y0MCO7zV7e9F"
      },
      "execution_count": 18,
      "outputs": []
    },
    {
      "cell_type": "code",
      "source": [
        "act_sales = monthly_sales['sales'][-13:].to_list()\n",
        "print(act_sales)"
      ],
      "metadata": {
        "colab": {
          "base_uri": "https://localhost:8080/"
        },
        "id": "GLs7mx3P8RJh",
        "outputId": "38e39d96-a11d-49f5-e64a-d2b36552f6e6"
      },
      "execution_count": 19,
      "outputs": [
        {
          "output_type": "stream",
          "name": "stdout",
          "text": [
            "[663411, 617306, 621369, 822667, 938862, 1020686, 1064624, 1171393, 1026403, 935263, 891160, 928837, 695170]\n"
          ]
        }
      ]
    },
    {
      "cell_type": "markdown",
      "source": [
        "To create linear regression model to predict sales"
      ],
      "metadata": {
        "id": "XV6oYtjh8-t9"
      }
    },
    {
      "cell_type": "code",
      "source": [
        "lr_model = LinearRegression()\n",
        "lr_model.fit(x_train, y_train)\n",
        "lr_pre = lr_model.predict(x_test)"
      ],
      "metadata": {
        "id": "cQC2VBWO8rV8"
      },
      "execution_count": 20,
      "outputs": []
    },
    {
      "cell_type": "code",
      "source": [
        "lr_pre = lr_pre.reshape(-1, 1)\n",
        "lr_pre_test_set = np.concatenate([lr_pre, x_test], axis = 1)\n",
        "lr_pre_test_set = scaler.inverse_transform(lr_pre_test_set)"
      ],
      "metadata": {
        "id": "d6ABqVQ29etI"
      },
      "execution_count": 21,
      "outputs": []
    },
    {
      "cell_type": "code",
      "source": [
        "result_list = []\n",
        "for index in range (0, len(lr_pre_test_set)):\n",
        "  result_list.append(lr_pre_test_set[index][0] + act_sales[index])\n",
        "lr_pre_series = pd.Series(result_list, name = \"Linear Prediction\")\n",
        "predict_df = predict_df.merge(lr_pre_series, left_index = True, right_index = True)    "
      ],
      "metadata": {
        "id": "lwM83Zbg-KTn"
      },
      "execution_count": 22,
      "outputs": []
    },
    {
      "cell_type": "code",
      "source": [
        "lr_mse = np.sqrt(mean_squared_error(predict_df['Linear Prediction'], monthly_sales['sales'][-12:]))\n",
        "print(\"Mean Squared Error: \", lr_mse)\n",
        "lr_mae = (mean_absolute_error(predict_df['Linear Prediction'], monthly_sales['sales'][-12:]))\n",
        "print(\"Mean Absolute Error: \", lr_mae)\n",
        "lr_r2 = (r2_score(predict_df['Linear Prediction'], monthly_sales['sales'][-12:]))\n",
        "print(\"R Square Error : \", lr_r2)"
      ],
      "metadata": {
        "colab": {
          "base_uri": "https://localhost:8080/"
        },
        "id": "8DUdlwgSADlW",
        "outputId": "de1b758e-d8ca-4847-cb40-16fb95e58dfb"
      },
      "execution_count": 23,
      "outputs": [
        {
          "output_type": "stream",
          "name": "stdout",
          "text": [
            "Mean Squared Error:  16221.272385416898\n",
            "Mean Absolute Error:  12433.184266490765\n",
            "R Square Error :  0.9906152516380968\n"
          ]
        }
      ]
    },
    {
      "cell_type": "markdown",
      "source": [
        "Visualization of predicted sales vs actual sales"
      ],
      "metadata": {
        "id": "iEYdebowB_hz"
      }
    },
    {
      "cell_type": "code",
      "source": [
        "plt.figure(figsize = (15,5))\n",
        "#Actual Sales\n",
        "plt.plot(monthly_sales['date'], monthly_sales['sales'])\n",
        "#Predicted Sales\n",
        "plt.plot(predict_df['date'], predict_df['Linear Prediction'])\n",
        "plt.xlabel('Date')\n",
        "plt.ylabel('Sales')\n",
        "plt.title('Sales forecast using Linear Regression Model')\n",
        "plt.legend(['Actual Sales', 'Predicted Sales'])\n",
        "plt.show()"
      ],
      "metadata": {
        "colab": {
          "base_uri": "https://localhost:8080/",
          "height": 350
        },
        "id": "hK8iwTYmCE2Y",
        "outputId": "7dccbcb9-a278-4094-a92b-4a340e420f29"
      },
      "execution_count": 24,
      "outputs": [
        {
          "output_type": "display_data",
          "data": {
            "text/plain": [
              "<Figure size 1080x360 with 1 Axes>"
            ],
            "image/png": "[encoded data removed]"
          },
          "metadata": {
            "needs_background": "light"
          }
        }
      ]
    }
  ]
}